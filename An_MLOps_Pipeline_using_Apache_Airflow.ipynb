{
  "nbformat": 4,
  "nbformat_minor": 0,
  "metadata": {
    "colab": {
      "provenance": []
    },
    "kernelspec": {
      "name": "python3",
      "display_name": "Python 3"
    },
    "language_info": {
      "name": "python"
    }
  },
  "cells": [
    {
      "cell_type": "markdown",
      "source": [
        "# **Data Prep**"
      ],
      "metadata": {
        "id": "K9jEKHwTxqxE"
      }
    },
    {
      "cell_type": "code",
      "execution_count": 1,
      "metadata": {
        "colab": {
          "base_uri": "https://localhost:8080/",
          "height": 316
        },
        "id": "E3UvPCe_YT5B",
        "outputId": "62dba073-1972-4dbc-f852-dd9e7d4b279e"
      },
      "outputs": [
        {
          "output_type": "display_data",
          "data": {
            "text/plain": [
              "<IPython.core.display.HTML object>"
            ],
            "text/html": [
              "\n",
              "     <input type=\"file\" id=\"files-8f4005f2-1972-4f62-8bb0-e6cc250c7d92\" name=\"files[]\" multiple disabled\n",
              "        style=\"border:none\" />\n",
              "     <output id=\"result-8f4005f2-1972-4f62-8bb0-e6cc250c7d92\">\n",
              "      Upload widget is only available when the cell has been executed in the\n",
              "      current browser session. Please rerun this cell to enable.\n",
              "      </output>\n",
              "      <script>// Copyright 2017 Google LLC\n",
              "//\n",
              "// Licensed under the Apache License, Version 2.0 (the \"License\");\n",
              "// you may not use this file except in compliance with the License.\n",
              "// You may obtain a copy of the License at\n",
              "//\n",
              "//      http://www.apache.org/licenses/LICENSE-2.0\n",
              "//\n",
              "// Unless required by applicable law or agreed to in writing, software\n",
              "// distributed under the License is distributed on an \"AS IS\" BASIS,\n",
              "// WITHOUT WARRANTIES OR CONDITIONS OF ANY KIND, either express or implied.\n",
              "// See the License for the specific language governing permissions and\n",
              "// limitations under the License.\n",
              "\n",
              "/**\n",
              " * @fileoverview Helpers for google.colab Python module.\n",
              " */\n",
              "(function(scope) {\n",
              "function span(text, styleAttributes = {}) {\n",
              "  const element = document.createElement('span');\n",
              "  element.textContent = text;\n",
              "  for (const key of Object.keys(styleAttributes)) {\n",
              "    element.style[key] = styleAttributes[key];\n",
              "  }\n",
              "  return element;\n",
              "}\n",
              "\n",
              "// Max number of bytes which will be uploaded at a time.\n",
              "const MAX_PAYLOAD_SIZE = 100 * 1024;\n",
              "\n",
              "function _uploadFiles(inputId, outputId) {\n",
              "  const steps = uploadFilesStep(inputId, outputId);\n",
              "  const outputElement = document.getElementById(outputId);\n",
              "  // Cache steps on the outputElement to make it available for the next call\n",
              "  // to uploadFilesContinue from Python.\n",
              "  outputElement.steps = steps;\n",
              "\n",
              "  return _uploadFilesContinue(outputId);\n",
              "}\n",
              "\n",
              "// This is roughly an async generator (not supported in the browser yet),\n",
              "// where there are multiple asynchronous steps and the Python side is going\n",
              "// to poll for completion of each step.\n",
              "// This uses a Promise to block the python side on completion of each step,\n",
              "// then passes the result of the previous step as the input to the next step.\n",
              "function _uploadFilesContinue(outputId) {\n",
              "  const outputElement = document.getElementById(outputId);\n",
              "  const steps = outputElement.steps;\n",
              "\n",
              "  const next = steps.next(outputElement.lastPromiseValue);\n",
              "  return Promise.resolve(next.value.promise).then((value) => {\n",
              "    // Cache the last promise value to make it available to the next\n",
              "    // step of the generator.\n",
              "    outputElement.lastPromiseValue = value;\n",
              "    return next.value.response;\n",
              "  });\n",
              "}\n",
              "\n",
              "/**\n",
              " * Generator function which is called between each async step of the upload\n",
              " * process.\n",
              " * @param {string} inputId Element ID of the input file picker element.\n",
              " * @param {string} outputId Element ID of the output display.\n",
              " * @return {!Iterable<!Object>} Iterable of next steps.\n",
              " */\n",
              "function* uploadFilesStep(inputId, outputId) {\n",
              "  const inputElement = document.getElementById(inputId);\n",
              "  inputElement.disabled = false;\n",
              "\n",
              "  const outputElement = document.getElementById(outputId);\n",
              "  outputElement.innerHTML = '';\n",
              "\n",
              "  const pickedPromise = new Promise((resolve) => {\n",
              "    inputElement.addEventListener('change', (e) => {\n",
              "      resolve(e.target.files);\n",
              "    });\n",
              "  });\n",
              "\n",
              "  const cancel = document.createElement('button');\n",
              "  inputElement.parentElement.appendChild(cancel);\n",
              "  cancel.textContent = 'Cancel upload';\n",
              "  const cancelPromise = new Promise((resolve) => {\n",
              "    cancel.onclick = () => {\n",
              "      resolve(null);\n",
              "    };\n",
              "  });\n",
              "\n",
              "  // Wait for the user to pick the files.\n",
              "  const files = yield {\n",
              "    promise: Promise.race([pickedPromise, cancelPromise]),\n",
              "    response: {\n",
              "      action: 'starting',\n",
              "    }\n",
              "  };\n",
              "\n",
              "  cancel.remove();\n",
              "\n",
              "  // Disable the input element since further picks are not allowed.\n",
              "  inputElement.disabled = true;\n",
              "\n",
              "  if (!files) {\n",
              "    return {\n",
              "      response: {\n",
              "        action: 'complete',\n",
              "      }\n",
              "    };\n",
              "  }\n",
              "\n",
              "  for (const file of files) {\n",
              "    const li = document.createElement('li');\n",
              "    li.append(span(file.name, {fontWeight: 'bold'}));\n",
              "    li.append(span(\n",
              "        `(${file.type || 'n/a'}) - ${file.size} bytes, ` +\n",
              "        `last modified: ${\n",
              "            file.lastModifiedDate ? file.lastModifiedDate.toLocaleDateString() :\n",
              "                                    'n/a'} - `));\n",
              "    const percent = span('0% done');\n",
              "    li.appendChild(percent);\n",
              "\n",
              "    outputElement.appendChild(li);\n",
              "\n",
              "    const fileDataPromise = new Promise((resolve) => {\n",
              "      const reader = new FileReader();\n",
              "      reader.onload = (e) => {\n",
              "        resolve(e.target.result);\n",
              "      };\n",
              "      reader.readAsArrayBuffer(file);\n",
              "    });\n",
              "    // Wait for the data to be ready.\n",
              "    let fileData = yield {\n",
              "      promise: fileDataPromise,\n",
              "      response: {\n",
              "        action: 'continue',\n",
              "      }\n",
              "    };\n",
              "\n",
              "    // Use a chunked sending to avoid message size limits. See b/62115660.\n",
              "    let position = 0;\n",
              "    do {\n",
              "      const length = Math.min(fileData.byteLength - position, MAX_PAYLOAD_SIZE);\n",
              "      const chunk = new Uint8Array(fileData, position, length);\n",
              "      position += length;\n",
              "\n",
              "      const base64 = btoa(String.fromCharCode.apply(null, chunk));\n",
              "      yield {\n",
              "        response: {\n",
              "          action: 'append',\n",
              "          file: file.name,\n",
              "          data: base64,\n",
              "        },\n",
              "      };\n",
              "\n",
              "      let percentDone = fileData.byteLength === 0 ?\n",
              "          100 :\n",
              "          Math.round((position / fileData.byteLength) * 100);\n",
              "      percent.textContent = `${percentDone}% done`;\n",
              "\n",
              "    } while (position < fileData.byteLength);\n",
              "  }\n",
              "\n",
              "  // All done.\n",
              "  yield {\n",
              "    response: {\n",
              "      action: 'complete',\n",
              "    }\n",
              "  };\n",
              "}\n",
              "\n",
              "scope.google = scope.google || {};\n",
              "scope.google.colab = scope.google.colab || {};\n",
              "scope.google.colab._files = {\n",
              "  _uploadFiles,\n",
              "  _uploadFilesContinue,\n",
              "};\n",
              "})(self);\n",
              "</script> "
            ]
          },
          "metadata": {}
        },
        {
          "output_type": "stream",
          "name": "stdout",
          "text": [
            "Saving screentime_analysis.csv to screentime_analysis (4).csv\n",
            "           Date        App  Usage (minutes)  Notifications  Times Opened\n",
            "0    2024-08-07  Instagram               81             24            57\n",
            "1    2024-08-08  Instagram               90             30            53\n",
            "2    2024-08-26  Instagram              112             33            17\n",
            "3    2024-08-22  Instagram               82             11            38\n",
            "4    2024-08-12  Instagram               59             47            16\n",
            "..          ...        ...              ...            ...           ...\n",
            "195  2024-08-10   LinkedIn               22             12             5\n",
            "196  2024-08-23   LinkedIn                5              7             1\n",
            "197  2024-08-18   LinkedIn               19              2             5\n",
            "198  2024-08-26   LinkedIn               21             14             1\n",
            "199  2024-08-02   LinkedIn               13              4             1\n",
            "\n",
            "[200 rows x 5 columns]\n"
          ]
        }
      ],
      "source": [
        "from google.colab import files\n",
        "uploaded = files.upload()\n",
        "\n",
        "import pandas as pd\n",
        "from sklearn.preprocessing import MinMaxScaler\n",
        "\n",
        "df = pd.read_csv(\"screentime_analysis.csv\")\n",
        "print(df)"
      ]
    },
    {
      "cell_type": "code",
      "source": [
        "print(df.isnull().sum())\n",
        "print(df.duplicated().sum())"
      ],
      "metadata": {
        "colab": {
          "base_uri": "https://localhost:8080/"
        },
        "id": "0PbgOUE5bxg7",
        "outputId": "46a52a1e-01f4-4995-8895-a907763e277b"
      },
      "execution_count": 2,
      "outputs": [
        {
          "output_type": "stream",
          "name": "stdout",
          "text": [
            "Date               0\n",
            "App                0\n",
            "Usage (minutes)    0\n",
            "Notifications      0\n",
            "Times Opened       0\n",
            "dtype: int64\n",
            "0\n"
          ]
        }
      ]
    },
    {
      "cell_type": "code",
      "source": [
        "#Convert Datetime and extract features\n",
        "df = pd.read_csv(\"screentime_analysis.csv\")\n",
        "df['Date']=pd.to_datetime(df['Date'])\n",
        "df['DayOfWeek'] = df['Date'].dt.dayofweek\n",
        "df['Month']=df['Date'].dt.month"
      ],
      "metadata": {
        "id": "FwZRH5fkcCQz"
      },
      "execution_count": 3,
      "outputs": []
    },
    {
      "cell_type": "code",
      "source": [
        "df = pd.get_dummies(df, columns=['App'], drop_first=True)"
      ],
      "metadata": {
        "id": "glBuIgkNdKlA"
      },
      "execution_count": 4,
      "outputs": []
    },
    {
      "cell_type": "code",
      "source": [
        "# scale numerical features using MinMaxScaler\n",
        "scaler=MinMaxScaler()\n",
        "df[['Notifications', 'Times Opened']] = scaler.fit_transform(df[['Notifications', 'Times Opened']])\n",
        "\n",
        "# feature engineering\n",
        "df['Previous_Day_Usage'] = df['Usage (minutes)'].shift(1)\n",
        "df['Notifications_x_TimesOpened'] = df['Notifications'] * df['Times Opened']\n",
        "\n",
        "# save the preprocessed data to a file\n",
        "df.to_csv('preprocessed_screentime_analysis.csv', index=False)"
      ],
      "metadata": {
        "id": "Eku6MyaidaMT"
      },
      "execution_count": 5,
      "outputs": []
    },
    {
      "cell_type": "markdown",
      "source": [
        "The process scales numerical columns, such as **Notifications** and **Times Opened**, using MinMaxScaler to ensure uniformity. Feature engineering creates lagged **(Previous_Day_Usage)** and interaction **(Notifications_x_TimesOpened)** features to enhance predictive power."
      ],
      "metadata": {
        "id": "e1S5PCNAvWB_"
      }
    },
    {
      "cell_type": "markdown",
      "source": [
        "# **Train The Model**"
      ],
      "metadata": {
        "id": "z7KI6jN3xxK2"
      }
    },
    {
      "cell_type": "code",
      "source": [
        "from sklearn.model_selection import train_test_split\n",
        "from sklearn.ensemble import RandomForestRegressor\n",
        "from sklearn.metrics import mean_absolute_error"
      ],
      "metadata": {
        "id": "p3CgPRZoxou9"
      },
      "execution_count": 6,
      "outputs": []
    },
    {
      "cell_type": "code",
      "source": [
        "# split data into features and target variable\n",
        "X = df.drop(columns=['Usage (minutes)', 'Date'])\n",
        "y = df['Usage (minutes)']"
      ],
      "metadata": {
        "id": "dOGTcvgYyCzI"
      },
      "execution_count": 7,
      "outputs": []
    },
    {
      "cell_type": "code",
      "source": [
        "# train-test split\n",
        "X_train, X_test, y_train, y_test = train_test_split(X, y, test_size=0.2, random_state=42)\n",
        "\n",
        "# train the model\n",
        "model = RandomForestRegressor(random_state=42)\n",
        "model.fit(X_train, y_train)\n",
        "\n",
        "# evaluate the model\n",
        "predictions = model.predict(X_test)\n",
        "mae = mean_absolute_error(y_test, predictions)\n",
        "print(f'Mean Absolute Error: {mae}')"
      ],
      "metadata": {
        "colab": {
          "base_uri": "https://localhost:8080/"
        },
        "id": "0hy5nkxDyIMt",
        "outputId": "fe1c6227-41f3-4aa2-b2a6-de0e3cf1b94c"
      },
      "execution_count": 8,
      "outputs": [
        {
          "output_type": "stream",
          "name": "stdout",
          "text": [
            "Mean Absolute Error: 15.398500000000002\n"
          ]
        }
      ]
    },
    {
      "cell_type": "markdown",
      "source": [
        "The **Mean Absolute Error (MAE)** metric quantifies the average difference between the predicted and actual values to assess performance.\n",
        "\n",
        "--> On average, the model’s predicted screentime differs from the actual screentime by approximately 15.4 minutes --> the model performs reasonably well **><** still room for improvement in reducing this error to make predictions more precise."
      ],
      "metadata": {
        "id": "nn75wkIvzROU"
      }
    },
    {
      "cell_type": "markdown",
      "source": [
        "# **Automating Preprocessing with a Pipeline using Apache Airflow**"
      ],
      "metadata": {
        "id": "EEx4JhA6zr2A"
      }
    },
    {
      "cell_type": "code",
      "source": [
        "pip install apache-airflow"
      ],
      "metadata": {
        "colab": {
          "base_uri": "https://localhost:8080/"
        },
        "id": "ix3BnKqAzpNd",
        "outputId": "df490376-ff4b-4af0-da2d-5ee34cbbf666"
      },
      "execution_count": 9,
      "outputs": [
        {
          "output_type": "stream",
          "name": "stdout",
          "text": [
            "Requirement already satisfied: apache-airflow in /usr/local/lib/python3.11/dist-packages (3.0.3)\n",
            "Requirement already satisfied: apache-airflow-core==3.0.3 in /usr/local/lib/python3.11/dist-packages (from apache-airflow) (3.0.3)\n",
            "Requirement already satisfied: apache-airflow-task-sdk<1.1.0,>=1.0.0 in /usr/local/lib/python3.11/dist-packages (from apache-airflow) (1.0.3)\n",
            "Requirement already satisfied: a2wsgi>=1.10.8 in /usr/local/lib/python3.11/dist-packages (from apache-airflow-core==3.0.3->apache-airflow) (1.10.10)\n",
            "Requirement already satisfied: aiosqlite>=0.20.0 in /usr/local/lib/python3.11/dist-packages (from apache-airflow-core==3.0.3->apache-airflow) (0.21.0)\n",
            "Requirement already satisfied: alembic<2.0,>=1.13.1 in /usr/local/lib/python3.11/dist-packages (from apache-airflow-core==3.0.3->apache-airflow) (1.16.4)\n",
            "Requirement already satisfied: apache-airflow-providers-common-compat>=1.6.0 in /usr/local/lib/python3.11/dist-packages (from apache-airflow-core==3.0.3->apache-airflow) (1.7.2)\n",
            "Requirement already satisfied: apache-airflow-providers-common-io>=1.5.3 in /usr/local/lib/python3.11/dist-packages (from apache-airflow-core==3.0.3->apache-airflow) (1.6.1)\n",
            "Requirement already satisfied: apache-airflow-providers-common-sql>=1.26.0 in /usr/local/lib/python3.11/dist-packages (from apache-airflow-core==3.0.3->apache-airflow) (1.27.3)\n",
            "Requirement already satisfied: apache-airflow-providers-smtp>=2.0.2 in /usr/local/lib/python3.11/dist-packages (from apache-airflow-core==3.0.3->apache-airflow) (2.1.1)\n",
            "Requirement already satisfied: apache-airflow-providers-standard>=0.4.0 in /usr/local/lib/python3.11/dist-packages (from apache-airflow-core==3.0.3->apache-airflow) (1.4.1)\n",
            "Requirement already satisfied: argcomplete>=1.10 in /usr/local/lib/python3.11/dist-packages (from apache-airflow-core==3.0.3->apache-airflow) (3.6.2)\n",
            "Requirement already satisfied: asgiref>=2.3.0 in /usr/local/lib/python3.11/dist-packages (from apache-airflow-core==3.0.3->apache-airflow) (3.9.1)\n",
            "Requirement already satisfied: attrs!=25.2.0,>=22.1.0 in /usr/local/lib/python3.11/dist-packages (from apache-airflow-core==3.0.3->apache-airflow) (25.3.0)\n",
            "Requirement already satisfied: cadwyn>=5.2.1 in /usr/local/lib/python3.11/dist-packages (from apache-airflow-core==3.0.3->apache-airflow) (5.4.4)\n",
            "Requirement already satisfied: colorlog>=6.8.2 in /usr/local/lib/python3.11/dist-packages (from apache-airflow-core==3.0.3->apache-airflow) (6.9.0)\n",
            "Requirement already satisfied: cron-descriptor>=1.2.24 in /usr/local/lib/python3.11/dist-packages (from apache-airflow-core==3.0.3->apache-airflow) (1.4.5)\n",
            "Requirement already satisfied: croniter>=2.0.2 in /usr/local/lib/python3.11/dist-packages (from apache-airflow-core==3.0.3->apache-airflow) (6.0.0)\n",
            "Requirement already satisfied: cryptography>=41.0.0 in /usr/local/lib/python3.11/dist-packages (from apache-airflow-core==3.0.3->apache-airflow) (43.0.3)\n",
            "Requirement already satisfied: deprecated>=1.2.13 in /usr/local/lib/python3.11/dist-packages (from apache-airflow-core==3.0.3->apache-airflow) (1.2.18)\n",
            "Requirement already satisfied: dill>=0.2.2 in /usr/local/lib/python3.11/dist-packages (from apache-airflow-core==3.0.3->apache-airflow) (0.3.8)\n",
            "Requirement already satisfied: fastapi!=0.115.10,>=0.115.0 in /usr/local/lib/python3.11/dist-packages (from fastapi[standard]!=0.115.10,>=0.115.0->apache-airflow-core==3.0.3->apache-airflow) (0.116.1)\n",
            "Requirement already satisfied: flask>=2.1.1 in /usr/local/lib/python3.11/dist-packages (from apache-airflow-core==3.0.3->apache-airflow) (3.1.1)\n",
            "Requirement already satisfied: gunicorn>=20.1.0 in /usr/local/lib/python3.11/dist-packages (from apache-airflow-core==3.0.3->apache-airflow) (23.0.0)\n",
            "Requirement already satisfied: httpx>=0.25.0 in /usr/local/lib/python3.11/dist-packages (from apache-airflow-core==3.0.3->apache-airflow) (0.28.1)\n",
            "Requirement already satisfied: importlib-metadata>=6.5 in /usr/local/lib/python3.11/dist-packages (from apache-airflow-core==3.0.3->apache-airflow) (8.7.0)\n",
            "Requirement already satisfied: itsdangerous>=2.0 in /usr/local/lib/python3.11/dist-packages (from apache-airflow-core==3.0.3->apache-airflow) (2.2.0)\n",
            "Requirement already satisfied: jinja2>=3.1.5 in /usr/local/lib/python3.11/dist-packages (from apache-airflow-core==3.0.3->apache-airflow) (3.1.6)\n",
            "Requirement already satisfied: jsonschema>=4.19.1 in /usr/local/lib/python3.11/dist-packages (from apache-airflow-core==3.0.3->apache-airflow) (4.25.0)\n",
            "Requirement already satisfied: lazy-object-proxy>=1.2.0 in /usr/local/lib/python3.11/dist-packages (from apache-airflow-core==3.0.3->apache-airflow) (1.11.0)\n",
            "Requirement already satisfied: libcst>=1.1.0 in /usr/local/lib/python3.11/dist-packages (from apache-airflow-core==3.0.3->apache-airflow) (1.8.2)\n",
            "Requirement already satisfied: linkify-it-py>=2.0.0 in /usr/local/lib/python3.11/dist-packages (from apache-airflow-core==3.0.3->apache-airflow) (2.0.3)\n",
            "Requirement already satisfied: lockfile>=0.12.2 in /usr/local/lib/python3.11/dist-packages (from apache-airflow-core==3.0.3->apache-airflow) (0.12.2)\n",
            "Requirement already satisfied: methodtools>=0.4.7 in /usr/local/lib/python3.11/dist-packages (from apache-airflow-core==3.0.3->apache-airflow) (0.4.7)\n",
            "Requirement already satisfied: opentelemetry-api>=1.26.0 in /usr/local/lib/python3.11/dist-packages (from apache-airflow-core==3.0.3->apache-airflow) (1.36.0)\n",
            "Requirement already satisfied: opentelemetry-exporter-otlp>=1.26.0 in /usr/local/lib/python3.11/dist-packages (from apache-airflow-core==3.0.3->apache-airflow) (1.36.0)\n",
            "Requirement already satisfied: packaging>=23.2 in /usr/local/lib/python3.11/dist-packages (from apache-airflow-core==3.0.3->apache-airflow) (25.0)\n",
            "Requirement already satisfied: pathspec>=0.9.0 in /usr/local/lib/python3.11/dist-packages (from apache-airflow-core==3.0.3->apache-airflow) (0.12.1)\n",
            "Requirement already satisfied: pendulum<4.0,>=2.1.2 in /usr/local/lib/python3.11/dist-packages (from apache-airflow-core==3.0.3->apache-airflow) (3.1.0)\n",
            "Requirement already satisfied: pluggy>=1.5.0 in /usr/local/lib/python3.11/dist-packages (from apache-airflow-core==3.0.3->apache-airflow) (1.6.0)\n",
            "Requirement already satisfied: psutil>=5.8.0 in /usr/local/lib/python3.11/dist-packages (from apache-airflow-core==3.0.3->apache-airflow) (7.0.0)\n",
            "Requirement already satisfied: pydantic>=2.11.0 in /usr/local/lib/python3.11/dist-packages (from apache-airflow-core==3.0.3->apache-airflow) (2.11.7)\n",
            "Requirement already satisfied: pygments!=2.19.0,>=2.0.1 in /usr/local/lib/python3.11/dist-packages (from apache-airflow-core==3.0.3->apache-airflow) (2.19.2)\n",
            "Requirement already satisfied: pyjwt>=2.10.0 in /usr/local/lib/python3.11/dist-packages (from apache-airflow-core==3.0.3->apache-airflow) (2.10.1)\n",
            "Requirement already satisfied: python-daemon>=3.0.0 in /usr/local/lib/python3.11/dist-packages (from apache-airflow-core==3.0.3->apache-airflow) (3.1.2)\n",
            "Requirement already satisfied: python-dateutil>=2.7.0 in /usr/local/lib/python3.11/dist-packages (from apache-airflow-core==3.0.3->apache-airflow) (2.9.0.post0)\n",
            "Requirement already satisfied: python-slugify>=5.0 in /usr/local/lib/python3.11/dist-packages (from apache-airflow-core==3.0.3->apache-airflow) (8.0.4)\n",
            "Requirement already satisfied: requests<3,>=2.31.0 in /usr/local/lib/python3.11/dist-packages (from apache-airflow-core==3.0.3->apache-airflow) (2.32.3)\n",
            "Requirement already satisfied: rich-argparse>=1.0.0 in /usr/local/lib/python3.11/dist-packages (from apache-airflow-core==3.0.3->apache-airflow) (1.7.1)\n",
            "Requirement already satisfied: rich>=13.6.0 in /usr/local/lib/python3.11/dist-packages (from apache-airflow-core==3.0.3->apache-airflow) (13.9.4)\n",
            "Requirement already satisfied: setproctitle>=1.3.3 in /usr/local/lib/python3.11/dist-packages (from apache-airflow-core==3.0.3->apache-airflow) (1.3.6)\n",
            "Requirement already satisfied: sqlalchemy-jsonfield>=1.0 in /usr/local/lib/python3.11/dist-packages (from apache-airflow-core==3.0.3->apache-airflow) (1.0.2)\n",
            "Requirement already satisfied: sqlalchemy-utils>=0.41.2 in /usr/local/lib/python3.11/dist-packages (from apache-airflow-core==3.0.3->apache-airflow) (0.41.2)\n",
            "Requirement already satisfied: sqlalchemy<2.0,>=1.4.49 in /usr/local/lib/python3.11/dist-packages (from sqlalchemy[asyncio]<2.0,>=1.4.49->apache-airflow-core==3.0.3->apache-airflow) (1.4.54)\n",
            "Requirement already satisfied: svcs>=25.1.0 in /usr/local/lib/python3.11/dist-packages (from apache-airflow-core==3.0.3->apache-airflow) (25.1.0)\n",
            "Requirement already satisfied: tabulate>=0.9.0 in /usr/local/lib/python3.11/dist-packages (from apache-airflow-core==3.0.3->apache-airflow) (0.9.0)\n",
            "Requirement already satisfied: tenacity!=8.2.0,>=8.0.0 in /usr/local/lib/python3.11/dist-packages (from apache-airflow-core==3.0.3->apache-airflow) (8.5.0)\n",
            "Requirement already satisfied: termcolor>=3.0.0 in /usr/local/lib/python3.11/dist-packages (from apache-airflow-core==3.0.3->apache-airflow) (3.1.0)\n",
            "Requirement already satisfied: typing-extensions!=4.14.0 in /usr/local/lib/python3.11/dist-packages (from apache-airflow-core==3.0.3->apache-airflow) (4.14.1)\n",
            "Requirement already satisfied: universal-pathlib!=0.2.4,>=0.2.2 in /usr/local/lib/python3.11/dist-packages (from apache-airflow-core==3.0.3->apache-airflow) (0.2.6)\n",
            "Requirement already satisfied: uuid6>=2024.7.10 in /usr/local/lib/python3.11/dist-packages (from apache-airflow-core==3.0.3->apache-airflow) (2025.0.1)\n",
            "Requirement already satisfied: fsspec>=2023.10.0 in /usr/local/lib/python3.11/dist-packages (from apache-airflow-task-sdk<1.1.0,>=1.0.0->apache-airflow) (2025.3.0)\n",
            "Requirement already satisfied: msgspec>=0.19.0 in /usr/local/lib/python3.11/dist-packages (from apache-airflow-task-sdk<1.1.0,>=1.0.0->apache-airflow) (0.19.0)\n",
            "Requirement already satisfied: retryhttp!=1.3.0,>=1.2.0 in /usr/local/lib/python3.11/dist-packages (from apache-airflow-task-sdk<1.1.0,>=1.0.0->apache-airflow) (1.3.3)\n",
            "Requirement already satisfied: structlog>=25.4.0 in /usr/local/lib/python3.11/dist-packages (from apache-airflow-task-sdk<1.1.0,>=1.0.0->apache-airflow) (25.4.0)\n",
            "Requirement already satisfied: Mako in /usr/lib/python3/dist-packages (from alembic<2.0,>=1.13.1->apache-airflow-core==3.0.3->apache-airflow) (1.1.3)\n",
            "Requirement already satisfied: sqlparse>=0.5.1 in /usr/local/lib/python3.11/dist-packages (from apache-airflow-providers-common-sql>=1.26.0->apache-airflow-core==3.0.3->apache-airflow) (0.5.3)\n",
            "Requirement already satisfied: more-itertools>=9.0.0 in /usr/local/lib/python3.11/dist-packages (from apache-airflow-providers-common-sql>=1.26.0->apache-airflow-core==3.0.3->apache-airflow) (10.7.0)\n",
            "Requirement already satisfied: starlette>=0.30.0 in /usr/local/lib/python3.11/dist-packages (from cadwyn>=5.2.1->apache-airflow-core==3.0.3->apache-airflow) (0.47.2)\n",
            "Requirement already satisfied: typing-inspection>=0.4.0 in /usr/local/lib/python3.11/dist-packages (from cadwyn>=5.2.1->apache-airflow-core==3.0.3->apache-airflow) (0.4.1)\n",
            "Requirement already satisfied: pytz>2021.1 in /usr/local/lib/python3.11/dist-packages (from croniter>=2.0.2->apache-airflow-core==3.0.3->apache-airflow) (2025.2)\n",
            "Requirement already satisfied: cffi>=1.12 in /usr/local/lib/python3.11/dist-packages (from cryptography>=41.0.0->apache-airflow-core==3.0.3->apache-airflow) (1.17.1)\n",
            "Requirement already satisfied: wrapt<2,>=1.10 in /usr/local/lib/python3.11/dist-packages (from deprecated>=1.2.13->apache-airflow-core==3.0.3->apache-airflow) (1.17.2)\n",
            "Requirement already satisfied: fastapi-cli>=0.0.8 in /usr/local/lib/python3.11/dist-packages (from fastapi-cli[standard]>=0.0.8; extra == \"standard\"->fastapi[standard]!=0.115.10,>=0.115.0->apache-airflow-core==3.0.3->apache-airflow) (0.0.8)\n",
            "Requirement already satisfied: python-multipart>=0.0.18 in /usr/local/lib/python3.11/dist-packages (from fastapi[standard]!=0.115.10,>=0.115.0->apache-airflow-core==3.0.3->apache-airflow) (0.0.20)\n",
            "Requirement already satisfied: email-validator>=2.0.0 in /usr/local/lib/python3.11/dist-packages (from fastapi[standard]!=0.115.10,>=0.115.0->apache-airflow-core==3.0.3->apache-airflow) (2.2.0)\n",
            "Requirement already satisfied: uvicorn>=0.12.0 in /usr/local/lib/python3.11/dist-packages (from uvicorn[standard]>=0.12.0; extra == \"standard\"->fastapi[standard]!=0.115.10,>=0.115.0->apache-airflow-core==3.0.3->apache-airflow) (0.35.0)\n",
            "Requirement already satisfied: blinker>=1.9.0 in /usr/local/lib/python3.11/dist-packages (from flask>=2.1.1->apache-airflow-core==3.0.3->apache-airflow) (1.9.0)\n",
            "Requirement already satisfied: click>=8.1.3 in /usr/local/lib/python3.11/dist-packages (from flask>=2.1.1->apache-airflow-core==3.0.3->apache-airflow) (8.2.1)\n",
            "Requirement already satisfied: markupsafe>=2.1.1 in /usr/local/lib/python3.11/dist-packages (from flask>=2.1.1->apache-airflow-core==3.0.3->apache-airflow) (3.0.2)\n",
            "Requirement already satisfied: werkzeug>=3.1.0 in /usr/local/lib/python3.11/dist-packages (from flask>=2.1.1->apache-airflow-core==3.0.3->apache-airflow) (3.1.3)\n",
            "Requirement already satisfied: anyio in /usr/local/lib/python3.11/dist-packages (from httpx>=0.25.0->apache-airflow-core==3.0.3->apache-airflow) (4.9.0)\n",
            "Requirement already satisfied: certifi in /usr/local/lib/python3.11/dist-packages (from httpx>=0.25.0->apache-airflow-core==3.0.3->apache-airflow) (2025.7.14)\n",
            "Requirement already satisfied: httpcore==1.* in /usr/local/lib/python3.11/dist-packages (from httpx>=0.25.0->apache-airflow-core==3.0.3->apache-airflow) (1.0.9)\n",
            "Requirement already satisfied: idna in /usr/local/lib/python3.11/dist-packages (from httpx>=0.25.0->apache-airflow-core==3.0.3->apache-airflow) (3.10)\n",
            "Requirement already satisfied: h11>=0.16 in /usr/local/lib/python3.11/dist-packages (from httpcore==1.*->httpx>=0.25.0->apache-airflow-core==3.0.3->apache-airflow) (0.16.0)\n",
            "Requirement already satisfied: zipp>=3.20 in /usr/local/lib/python3.11/dist-packages (from importlib-metadata>=6.5->apache-airflow-core==3.0.3->apache-airflow) (3.23.0)\n",
            "Requirement already satisfied: jsonschema-specifications>=2023.03.6 in /usr/local/lib/python3.11/dist-packages (from jsonschema>=4.19.1->apache-airflow-core==3.0.3->apache-airflow) (2025.4.1)\n",
            "Requirement already satisfied: referencing>=0.28.4 in /usr/local/lib/python3.11/dist-packages (from jsonschema>=4.19.1->apache-airflow-core==3.0.3->apache-airflow) (0.36.2)\n",
            "Requirement already satisfied: rpds-py>=0.7.1 in /usr/local/lib/python3.11/dist-packages (from jsonschema>=4.19.1->apache-airflow-core==3.0.3->apache-airflow) (0.26.0)\n",
            "Requirement already satisfied: pyyaml>=5.2 in /usr/local/lib/python3.11/dist-packages (from libcst>=1.1.0->apache-airflow-core==3.0.3->apache-airflow) (6.0.2)\n",
            "Requirement already satisfied: uc-micro-py in /usr/local/lib/python3.11/dist-packages (from linkify-it-py>=2.0.0->apache-airflow-core==3.0.3->apache-airflow) (1.0.3)\n",
            "Requirement already satisfied: wirerope>=0.4.7 in /usr/local/lib/python3.11/dist-packages (from methodtools>=0.4.7->apache-airflow-core==3.0.3->apache-airflow) (1.0.0)\n",
            "Requirement already satisfied: opentelemetry-exporter-otlp-proto-grpc==1.36.0 in /usr/local/lib/python3.11/dist-packages (from opentelemetry-exporter-otlp>=1.26.0->apache-airflow-core==3.0.3->apache-airflow) (1.36.0)\n",
            "Requirement already satisfied: opentelemetry-exporter-otlp-proto-http==1.36.0 in /usr/local/lib/python3.11/dist-packages (from opentelemetry-exporter-otlp>=1.26.0->apache-airflow-core==3.0.3->apache-airflow) (1.36.0)\n",
            "Requirement already satisfied: googleapis-common-protos~=1.57 in /usr/local/lib/python3.11/dist-packages (from opentelemetry-exporter-otlp-proto-grpc==1.36.0->opentelemetry-exporter-otlp>=1.26.0->apache-airflow-core==3.0.3->apache-airflow) (1.70.0)\n",
            "Requirement already satisfied: grpcio<2.0.0,>=1.63.2 in /usr/local/lib/python3.11/dist-packages (from opentelemetry-exporter-otlp-proto-grpc==1.36.0->opentelemetry-exporter-otlp>=1.26.0->apache-airflow-core==3.0.3->apache-airflow) (1.74.0)\n",
            "Requirement already satisfied: opentelemetry-exporter-otlp-proto-common==1.36.0 in /usr/local/lib/python3.11/dist-packages (from opentelemetry-exporter-otlp-proto-grpc==1.36.0->opentelemetry-exporter-otlp>=1.26.0->apache-airflow-core==3.0.3->apache-airflow) (1.36.0)\n",
            "Requirement already satisfied: opentelemetry-proto==1.36.0 in /usr/local/lib/python3.11/dist-packages (from opentelemetry-exporter-otlp-proto-grpc==1.36.0->opentelemetry-exporter-otlp>=1.26.0->apache-airflow-core==3.0.3->apache-airflow) (1.36.0)\n",
            "Requirement already satisfied: opentelemetry-sdk~=1.36.0 in /usr/local/lib/python3.11/dist-packages (from opentelemetry-exporter-otlp-proto-grpc==1.36.0->opentelemetry-exporter-otlp>=1.26.0->apache-airflow-core==3.0.3->apache-airflow) (1.36.0)\n",
            "Requirement already satisfied: protobuf<7.0,>=5.0 in /usr/local/lib/python3.11/dist-packages (from opentelemetry-proto==1.36.0->opentelemetry-exporter-otlp-proto-grpc==1.36.0->opentelemetry-exporter-otlp>=1.26.0->apache-airflow-core==3.0.3->apache-airflow) (5.29.5)\n",
            "Requirement already satisfied: tzdata>=2020.1 in /usr/local/lib/python3.11/dist-packages (from pendulum<4.0,>=2.1.2->apache-airflow-core==3.0.3->apache-airflow) (2025.2)\n",
            "Requirement already satisfied: annotated-types>=0.6.0 in /usr/local/lib/python3.11/dist-packages (from pydantic>=2.11.0->apache-airflow-core==3.0.3->apache-airflow) (0.7.0)\n",
            "Requirement already satisfied: pydantic-core==2.33.2 in /usr/local/lib/python3.11/dist-packages (from pydantic>=2.11.0->apache-airflow-core==3.0.3->apache-airflow) (2.33.2)\n",
            "Requirement already satisfied: six>=1.5 in /usr/local/lib/python3.11/dist-packages (from python-dateutil>=2.7.0->apache-airflow-core==3.0.3->apache-airflow) (1.17.0)\n",
            "Requirement already satisfied: text-unidecode>=1.3 in /usr/local/lib/python3.11/dist-packages (from python-slugify>=5.0->apache-airflow-core==3.0.3->apache-airflow) (1.3)\n",
            "Requirement already satisfied: charset-normalizer<4,>=2 in /usr/local/lib/python3.11/dist-packages (from requests<3,>=2.31.0->apache-airflow-core==3.0.3->apache-airflow) (3.4.2)\n",
            "Requirement already satisfied: urllib3<3,>=1.21.1 in /usr/local/lib/python3.11/dist-packages (from requests<3,>=2.31.0->apache-airflow-core==3.0.3->apache-airflow) (2.5.0)\n",
            "Requirement already satisfied: types-requests in /usr/local/lib/python3.11/dist-packages (from retryhttp!=1.3.0,>=1.2.0->apache-airflow-task-sdk<1.1.0,>=1.0.0->apache-airflow) (2.32.4.20250611)\n",
            "Requirement already satisfied: markdown-it-py>=2.2.0 in /usr/local/lib/python3.11/dist-packages (from rich>=13.6.0->apache-airflow-core==3.0.3->apache-airflow) (3.0.0)\n",
            "Requirement already satisfied: greenlet!=0.4.17 in /usr/local/lib/python3.11/dist-packages (from sqlalchemy<2.0,>=1.4.49->sqlalchemy[asyncio]<2.0,>=1.4.49->apache-airflow-core==3.0.3->apache-airflow) (3.2.3)\n",
            "Requirement already satisfied: pycparser in /usr/local/lib/python3.11/dist-packages (from cffi>=1.12->cryptography>=41.0.0->apache-airflow-core==3.0.3->apache-airflow) (2.22)\n",
            "Requirement already satisfied: dnspython>=2.0.0 in /usr/local/lib/python3.11/dist-packages (from email-validator>=2.0.0->fastapi[standard]!=0.115.10,>=0.115.0->apache-airflow-core==3.0.3->apache-airflow) (2.7.0)\n",
            "Requirement already satisfied: typer>=0.15.1 in /usr/local/lib/python3.11/dist-packages (from fastapi-cli>=0.0.8->fastapi-cli[standard]>=0.0.8; extra == \"standard\"->fastapi[standard]!=0.115.10,>=0.115.0->apache-airflow-core==3.0.3->apache-airflow) (0.16.0)\n",
            "Requirement already satisfied: rich-toolkit>=0.14.8 in /usr/local/lib/python3.11/dist-packages (from fastapi-cli>=0.0.8->fastapi-cli[standard]>=0.0.8; extra == \"standard\"->fastapi[standard]!=0.115.10,>=0.115.0->apache-airflow-core==3.0.3->apache-airflow) (0.14.9)\n",
            "Requirement already satisfied: fastapi-cloud-cli>=0.1.1 in /usr/local/lib/python3.11/dist-packages (from fastapi-cli[standard]>=0.0.8; extra == \"standard\"->fastapi[standard]!=0.115.10,>=0.115.0->apache-airflow-core==3.0.3->apache-airflow) (0.1.5)\n",
            "Requirement already satisfied: mdurl~=0.1 in /usr/local/lib/python3.11/dist-packages (from markdown-it-py>=2.2.0->rich>=13.6.0->apache-airflow-core==3.0.3->apache-airflow) (0.1.2)\n",
            "Requirement already satisfied: sniffio>=1.1 in /usr/local/lib/python3.11/dist-packages (from anyio->httpx>=0.25.0->apache-airflow-core==3.0.3->apache-airflow) (1.3.1)\n",
            "Requirement already satisfied: httptools>=0.6.3 in /usr/local/lib/python3.11/dist-packages (from uvicorn[standard]>=0.12.0; extra == \"standard\"->fastapi[standard]!=0.115.10,>=0.115.0->apache-airflow-core==3.0.3->apache-airflow) (0.6.4)\n",
            "Requirement already satisfied: python-dotenv>=0.13 in /usr/local/lib/python3.11/dist-packages (from uvicorn[standard]>=0.12.0; extra == \"standard\"->fastapi[standard]!=0.115.10,>=0.115.0->apache-airflow-core==3.0.3->apache-airflow) (1.1.1)\n",
            "Requirement already satisfied: uvloop>=0.15.1 in /usr/local/lib/python3.11/dist-packages (from uvicorn[standard]>=0.12.0; extra == \"standard\"->fastapi[standard]!=0.115.10,>=0.115.0->apache-airflow-core==3.0.3->apache-airflow) (0.21.0)\n",
            "Requirement already satisfied: watchfiles>=0.13 in /usr/local/lib/python3.11/dist-packages (from uvicorn[standard]>=0.12.0; extra == \"standard\"->fastapi[standard]!=0.115.10,>=0.115.0->apache-airflow-core==3.0.3->apache-airflow) (1.1.0)\n",
            "Requirement already satisfied: websockets>=10.4 in /usr/local/lib/python3.11/dist-packages (from uvicorn[standard]>=0.12.0; extra == \"standard\"->fastapi[standard]!=0.115.10,>=0.115.0->apache-airflow-core==3.0.3->apache-airflow) (15.0.1)\n",
            "Requirement already satisfied: rignore>=0.5.1 in /usr/local/lib/python3.11/dist-packages (from fastapi-cloud-cli>=0.1.1->fastapi-cli[standard]>=0.0.8; extra == \"standard\"->fastapi[standard]!=0.115.10,>=0.115.0->apache-airflow-core==3.0.3->apache-airflow) (0.6.4)\n",
            "Requirement already satisfied: sentry-sdk>=2.20.0 in /usr/local/lib/python3.11/dist-packages (from fastapi-cloud-cli>=0.1.1->fastapi-cli[standard]>=0.0.8; extra == \"standard\"->fastapi[standard]!=0.115.10,>=0.115.0->apache-airflow-core==3.0.3->apache-airflow) (2.33.2)\n",
            "Requirement already satisfied: opentelemetry-semantic-conventions==0.57b0 in /usr/local/lib/python3.11/dist-packages (from opentelemetry-sdk~=1.36.0->opentelemetry-exporter-otlp-proto-grpc==1.36.0->opentelemetry-exporter-otlp>=1.26.0->apache-airflow-core==3.0.3->apache-airflow) (0.57b0)\n",
            "Requirement already satisfied: shellingham>=1.3.0 in /usr/local/lib/python3.11/dist-packages (from typer>=0.15.1->fastapi-cli>=0.0.8->fastapi-cli[standard]>=0.0.8; extra == \"standard\"->fastapi[standard]!=0.115.10,>=0.115.0->apache-airflow-core==3.0.3->apache-airflow) (1.5.4)\n"
          ]
        }
      ]
    },
    {
      "cell_type": "code",
      "source": [
        "from airflow import DAG\n",
        "from airflow.providers.standard.operators.python import PythonOperator\n",
        "from datetime import datetime\n",
        "\n",
        "# define the data preprocessing function\n",
        "def preprocess_data():\n",
        "    file_path = 'screentime_analysis.csv'\n",
        "    df = pd.read_csv(file_path)\n",
        "\n",
        "    df['Date'] = pd.to_datetime(df['Date'])\n",
        "    df['DayOfWeek'] = df['Date'].dt.dayofweek\n",
        "    df['Month'] = df['Date'].dt.month\n",
        "\n",
        "    df = df.drop(columns=['Date'])\n",
        "\n",
        "    df = pd.get_dummies(df, columns=['App'], drop_first=True)\n",
        "\n",
        "    scaler = MinMaxScaler()\n",
        "    df[['Notifications', 'Times Opened']] = scaler.fit_transform(df[['Notifications', 'Times Opened']])\n",
        "\n",
        "    preprocessed_path = 'preprocessed_screentime_analysis.csv'\n",
        "    df.to_csv(preprocessed_path, index=False)\n",
        "    print(f\"Preprocessed data saved to {preprocessed_path}\")\n",
        "\n",
        "# define the DAG\n",
        "dag = DAG(\n",
        "    dag_id='data_preprocessing',\n",
        "    schedule='@daily', # Changed schedule_interval to schedule\n",
        "    start_date=datetime(2025, 1, 1),\n",
        "    catchup=False,\n",
        ")\n",
        "\n",
        "# define the task\n",
        "preprocess_task = PythonOperator(\n",
        "    task_id='preprocess',\n",
        "    python_callable=preprocess_data,\n",
        "    dag=dag,\n",
        ")"
      ],
      "metadata": {
        "id": "MNe60B2g2VST"
      },
      "execution_count": 12,
      "outputs": []
    },
    {
      "cell_type": "markdown",
      "source": [
        "# **Testing and Running Pipeline**"
      ],
      "metadata": {
        "id": "5ZlH9YKl3NU8"
      }
    },
    {
      "cell_type": "code",
      "source": [
        "!airflow db init"
      ],
      "metadata": {
        "colab": {
          "base_uri": "https://localhost:8080/"
        },
        "id": "RfdpeC4u3CF7",
        "outputId": "c9a05397-7bb0-441a-90d7-a6c04ceba50a"
      },
      "execution_count": 14,
      "outputs": [
        {
          "output_type": "stream",
          "name": "stdout",
          "text": [
            "\u001b[91mUsage:\u001b[0m \u001b[37mairflow db\u001b[0m [\u001b[36m-h\u001b[0m] \u001b[36mCOMMAND\u001b[0m \u001b[36m...\u001b[0m\n",
            "\n",
            "\u001b[39mDatabase operations\u001b[0m\n",
            "\n",
            "\u001b[91mPositional Arguments:\u001b[0m\n",
            "  \u001b[36mCOMMAND\u001b[0m\n",
            "    \u001b[36mcheck\u001b[0m           \u001b[39mCheck if the database can be reached\u001b[0m\n",
            "    \u001b[36mcheck-migrations\u001b[0m\n",
            "                    \u001b[39mCheck if migration have finished\u001b[0m\n",
            "    \u001b[36mclean\u001b[0m           \u001b[39mPurge old records in metastore tables\u001b[0m\n",
            "    \u001b[36mdowngrade\u001b[0m       \u001b[39mDowngrade the schema of the metadata database.\u001b[0m\n",
            "    \u001b[36mdrop-archived\u001b[0m   \u001b[39mDrop archived tables created through the db clean command\u001b[0m\n",
            "    \u001b[36mexport-archived\u001b[0m\n",
            "                    \u001b[39mExport archived data from the archive tables\u001b[0m\n",
            "    \u001b[36mmigrate\u001b[0m         \u001b[39mMigrates the metadata database to the latest version\u001b[0m\n",
            "    \u001b[36mreset\u001b[0m           \u001b[39mBurn down and rebuild the metadata database\u001b[0m\n",
            "    \u001b[36mshell\u001b[0m           \u001b[39mRuns a shell to access the database\u001b[0m\n",
            "\n",
            "\u001b[91mOptions:\u001b[0m\n",
            "  \u001b[36m-h\u001b[0m, \u001b[36m--help\u001b[0m        \u001b[39mshow this help message and exit\u001b[0m\n",
            "\n",
            "airflow db command error: argument COMMAND: invalid choice: 'init' (choose from 'check', 'check-migrations', 'clean', 'downgrade', 'drop-archived', 'export-archived', 'migrate', 'reset', 'shell'), see help above.\n"
          ]
        }
      ]
    },
    {
      "cell_type": "code",
      "source": [
        "get_ipython().system('airflow webserver --port 8080')"
      ],
      "metadata": {
        "colab": {
          "base_uri": "https://localhost:8080/"
        },
        "id": "oaa_cyMg3cka",
        "outputId": "927fd4a1-c1d9-4f60-c513-f8388130a2fc"
      },
      "execution_count": 16,
      "outputs": [
        {
          "output_type": "stream",
          "name": "stdout",
          "text": [
            "\u001b[91mUsage:\u001b[0m \u001b[37mairflow\u001b[0m [\u001b[36m-h\u001b[0m] \u001b[36mGROUP_OR_COMMAND\u001b[0m \u001b[36m...\u001b[0m\n",
            "\n",
            "\u001b[91mPositional Arguments:\u001b[0m\n",
            "  \u001b[36mGROUP_OR_COMMAND\u001b[0m\n",
            "\n",
            "\u001b[36m    Groups\u001b[0m\n",
            "      \u001b[36massets\u001b[0m         \u001b[39mManage assets\u001b[0m\n",
            "      \u001b[36mbackfill\u001b[0m       \u001b[39mManage backfills\u001b[0m\n",
            "      \u001b[36mconfig\u001b[0m         \u001b[39mView configuration\u001b[0m\n",
            "      \u001b[36mconnections\u001b[0m    \u001b[39mManage connections\u001b[0m\n",
            "      \u001b[36mdags\u001b[0m           \u001b[39mManage DAGs\u001b[0m\n",
            "      \u001b[36mdb\u001b[0m             \u001b[39mDatabase operations\u001b[0m\n",
            "      \u001b[36mjobs\u001b[0m           \u001b[39mManage jobs\u001b[0m\n",
            "      \u001b[36mpools\u001b[0m          \u001b[39mManage pools\u001b[0m\n",
            "      \u001b[36mproviders\u001b[0m      \u001b[39mDisplay providers\u001b[0m\n",
            "      \u001b[36mtasks\u001b[0m          \u001b[39mManage tasks\u001b[0m\n",
            "      \u001b[36mvariables\u001b[0m      \u001b[39mManage variables\u001b[0m\n",
            "\n",
            "\u001b[36m    Commands:\u001b[0m\n",
            "      \u001b[36mapi-server\u001b[0m     \u001b[39mStart an Airflow API server instance\u001b[0m\n",
            "      \u001b[36mcheat-sheet\u001b[0m    \u001b[39mDisplay cheat sheet\u001b[0m\n",
            "      \u001b[36mdag-processor\u001b[0m  \u001b[39mStart a dag processor instance\u001b[0m\n",
            "      \u001b[36minfo\u001b[0m           \u001b[39mShow information about current Airflow and environment\u001b[0m\n",
            "      \u001b[36mkerberos\u001b[0m       \u001b[39mStart a kerberos ticket renewer\u001b[0m\n",
            "      \u001b[36mplugins\u001b[0m        \u001b[39mDump information about loaded plugins\u001b[0m\n",
            "      \u001b[36mrotate-fernet-key\u001b[0m\n",
            "                     \u001b[39mRotate encrypted connection credentials and variables\u001b[0m\n",
            "      \u001b[36mscheduler\u001b[0m      \u001b[39mStart a scheduler instance\u001b[0m\n",
            "      \u001b[36mstandalone\u001b[0m     \u001b[39mRun an all-in-one copy of Airflow\u001b[0m\n",
            "      \u001b[36mtriggerer\u001b[0m      \u001b[39mStart a triggerer instance\u001b[0m\n",
            "      \u001b[36mversion\u001b[0m        \u001b[39mShow the version\u001b[0m\n",
            "\n",
            "\u001b[91mOptions:\u001b[0m\n",
            "  \u001b[36m-h\u001b[0m, \u001b[36m--help\u001b[0m         \u001b[39mshow this help message and exit\u001b[0m\n",
            "\n",
            "airflow command error: argument GROUP_OR_COMMAND: Command `airflow webserver` has been removed. Please use `airflow api-server`, see help above.\n"
          ]
        }
      ]
    },
    {
      "cell_type": "code",
      "source": [
        "!airflow scheduler"
      ],
      "metadata": {
        "colab": {
          "base_uri": "https://localhost:8080/"
        },
        "id": "e9qRNDuo4LBM",
        "outputId": "96203fe2-3a94-4711-95f2-3f51511293cd"
      },
      "execution_count": 18,
      "outputs": [
        {
          "output_type": "stream",
          "name": "stdout",
          "text": [
            "[\u001b[34m2025-07-29T20:30:24.120+0000\u001b[0m] {\u001b[34mproviders_manager.py:\u001b[0m953} INFO\u001b[0m - The hook_class '\u001b[1mairflow.providers.standard.hooks.filesystem.FSHook\u001b[22m' is not fully initialized (UI widgets will be missing), because the 'flask_appbuilder' package is not installed, however it is not required for Airflow components to work\u001b[0m\n",
            "[\u001b[34m2025-07-29T20:30:24.122+0000\u001b[0m] {\u001b[34mproviders_manager.py:\u001b[0m953} INFO\u001b[0m - The hook_class '\u001b[1mairflow.providers.standard.hooks.package_index.PackageIndexHook\u001b[22m' is not fully initialized (UI widgets will be missing), because the 'flask_appbuilder' package is not installed, however it is not required for Airflow components to work\u001b[0m\n",
            "\n",
            "Please confirm database initialize (or wait 4 seconds to skip it). Are you sure? [y/N]\n",
            "[\u001b[34m2025-07-29T20:30:28.369+0000\u001b[0m] {\u001b[34mdb.py:\u001b[0m916} INFO\u001b[0m - Log template table does not exist (added in 2.3.0); skipping log template sync.\u001b[0m\n",
            "  ____________       _____________\n",
            " ____    |__( )_________  __/__  /________      __\n",
            "____  /| |_  /__  ___/_  /_ __  /_  __ \\_ | /| / /\n",
            "___  ___ |  / _  /   _  __/ _  / / /_/ /_ |/ |/ /\n",
            " _/_/  |_/_/  /_/    /_/    /_/  \\____/____/|__/\n",
            "[\u001b[34m2025-07-29T20:30:28.832+0000\u001b[0m] {\u001b[34mutils.py:\u001b[0m164} INFO\u001b[0m - NumExpr defaulting to 2 threads.\u001b[0m\n",
            "Traceback (most recent call last):\n",
            "  File \"/usr/local/lib/python3.11/dist-packages/sqlalchemy/engine/base.py\", line 1910, in _execute_context\n",
            "    self.dialect.do_execute(\n",
            "  File \"/usr/local/lib/python3.11/dist-packages/sqlalchemy/engine/default.py\", line 736, in do_execute\n",
            "    cursor.execute(statement, parameters)\n",
            "sqlite3.OperationalError: no such table: job\n",
            "\n",
            "The above exception was the direct cause of the following exception:\n",
            "\n",
            "Traceback (most recent call last):\n",
            "  File \"/usr/local/bin/airflow\", line 8, in <module>\n",
            "    sys.exit(main())\n",
            "             ^^^^^^\n",
            "  File \"/usr/local/lib/python3.11/dist-packages/airflow/__main__.py\", line 55, in main\n",
            "    args.func(args)\n",
            "  File \"/usr/local/lib/python3.11/dist-packages/airflow/cli/cli_config.py\", line 48, in command\n",
            "    return func(*args, **kwargs)\n",
            "           ^^^^^^^^^^^^^^^^^^^^^\n",
            "  File \"/usr/local/lib/python3.11/dist-packages/airflow/utils/cli.py\", line 112, in wrapper\n",
            "    return f(*args, **kwargs)\n",
            "           ^^^^^^^^^^^^^^^^^^\n",
            "  File \"/usr/local/lib/python3.11/dist-packages/airflow/utils/providers_configuration_loader.py\", line 55, in wrapped_function\n",
            "    return func(*args, **kwargs)\n",
            "           ^^^^^^^^^^^^^^^^^^^^^\n",
            "  File \"/usr/local/lib/python3.11/dist-packages/airflow/cli/commands/scheduler_command.py\", line 52, in scheduler\n",
            "    run_command_with_daemon_option(\n",
            "  File \"/usr/local/lib/python3.11/dist-packages/airflow/cli/commands/daemon_utils.py\", line 86, in run_command_with_daemon_option\n",
            "    callback()\n",
            "  File \"/usr/local/lib/python3.11/dist-packages/airflow/cli/commands/scheduler_command.py\", line 55, in <lambda>\n",
            "    callback=lambda: _run_scheduler_job(args),\n",
            "                     ^^^^^^^^^^^^^^^^^^^^^^^^\n",
            "  File \"/usr/local/lib/python3.11/dist-packages/airflow/cli/commands/scheduler_command.py\", line 43, in _run_scheduler_job\n",
            "    run_job(job=job_runner.job, execute_callable=job_runner._execute)\n",
            "  File \"/usr/local/lib/python3.11/dist-packages/airflow/utils/session.py\", line 101, in wrapper\n",
            "    return func(*args, session=session, **kwargs)\n",
            "           ^^^^^^^^^^^^^^^^^^^^^^^^^^^^^^^^^^^^^^\n",
            "  File \"/usr/local/lib/python3.11/dist-packages/airflow/jobs/job.py\", line 345, in run_job\n",
            "    job.prepare_for_execution(session=session)\n",
            "  File \"/usr/local/lib/python3.11/dist-packages/airflow/utils/session.py\", line 99, in wrapper\n",
            "    return func(*args, **kwargs)\n",
            "           ^^^^^^^^^^^^^^^^^^^^^\n",
            "  File \"/usr/local/lib/python3.11/dist-packages/airflow/jobs/job.py\", line 269, in prepare_for_execution\n",
            "    session.commit()\n",
            "  File \"/usr/local/lib/python3.11/dist-packages/sqlalchemy/orm/session.py\", line 1454, in commit\n",
            "    self._transaction.commit(_to_root=self.future)\n",
            "  File \"/usr/local/lib/python3.11/dist-packages/sqlalchemy/orm/session.py\", line 832, in commit\n",
            "    self._prepare_impl()\n",
            "  File \"/usr/local/lib/python3.11/dist-packages/sqlalchemy/orm/session.py\", line 811, in _prepare_impl\n",
            "    self.session.flush()\n",
            "  File \"/usr/local/lib/python3.11/dist-packages/sqlalchemy/orm/session.py\", line 3449, in flush\n",
            "    self._flush(objects)\n",
            "  File \"/usr/local/lib/python3.11/dist-packages/sqlalchemy/orm/session.py\", line 3588, in _flush\n",
            "    with util.safe_reraise():\n",
            "  File \"/usr/local/lib/python3.11/dist-packages/sqlalchemy/util/langhelpers.py\", line 70, in __exit__\n",
            "    compat.raise_(\n",
            "  File \"/usr/local/lib/python3.11/dist-packages/sqlalchemy/util/compat.py\", line 211, in raise_\n",
            "    raise exception\n",
            "  File \"/usr/local/lib/python3.11/dist-packages/sqlalchemy/orm/session.py\", line 3549, in _flush\n",
            "    flush_context.execute()\n",
            "  File \"/usr/local/lib/python3.11/dist-packages/sqlalchemy/orm/unitofwork.py\", line 456, in execute\n",
            "    rec.execute(self)\n",
            "  File \"/usr/local/lib/python3.11/dist-packages/sqlalchemy/orm/unitofwork.py\", line 630, in execute\n",
            "    util.preloaded.orm_persistence.save_obj(\n",
            "  File \"/usr/local/lib/python3.11/dist-packages/sqlalchemy/orm/persistence.py\", line 245, in save_obj\n",
            "    _emit_insert_statements(\n",
            "  File \"/usr/local/lib/python3.11/dist-packages/sqlalchemy/orm/persistence.py\", line 1238, in _emit_insert_statements\n",
            "    result = connection._execute_20(\n",
            "             ^^^^^^^^^^^^^^^^^^^^^^^\n",
            "  File \"/usr/local/lib/python3.11/dist-packages/sqlalchemy/engine/base.py\", line 1710, in _execute_20\n",
            "    return meth(self, args_10style, kwargs_10style, execution_options)\n",
            "           ^^^^^^^^^^^^^^^^^^^^^^^^^^^^^^^^^^^^^^^^^^^^^^^^^^^^^^^^^^^\n",
            "  File \"/usr/local/lib/python3.11/dist-packages/sqlalchemy/sql/elements.py\", line 334, in _execute_on_connection\n",
            "    return connection._execute_clauseelement(\n",
            "           ^^^^^^^^^^^^^^^^^^^^^^^^^^^^^^^^^^\n",
            "  File \"/usr/local/lib/python3.11/dist-packages/sqlalchemy/engine/base.py\", line 1577, in _execute_clauseelement\n",
            "    ret = self._execute_context(\n",
            "          ^^^^^^^^^^^^^^^^^^^^^^\n",
            "  File \"/usr/local/lib/python3.11/dist-packages/sqlalchemy/engine/base.py\", line 1953, in _execute_context\n",
            "    self._handle_dbapi_exception(\n",
            "  File \"/usr/local/lib/python3.11/dist-packages/sqlalchemy/engine/base.py\", line 2134, in _handle_dbapi_exception\n",
            "    util.raise_(\n",
            "  File \"/usr/local/lib/python3.11/dist-packages/sqlalchemy/util/compat.py\", line 211, in raise_\n",
            "    raise exception\n",
            "  File \"/usr/local/lib/python3.11/dist-packages/sqlalchemy/engine/base.py\", line 1910, in _execute_context\n",
            "    self.dialect.do_execute(\n",
            "  File \"/usr/local/lib/python3.11/dist-packages/sqlalchemy/engine/default.py\", line 736, in do_execute\n",
            "    cursor.execute(statement, parameters)\n",
            "sqlalchemy.exc.OperationalError: (sqlite3.OperationalError) no such table: job\n",
            "[SQL: INSERT INTO job (dag_id, state, job_type, start_date, end_date, latest_heartbeat, executor_class, hostname, unixname) VALUES (?, ?, ?, ?, ?, ?, ?, ?, ?)]\n",
            "[parameters: (None, <JobState.RUNNING: 'running'>, 'SchedulerJob', '2025-07-29 20:30:29.150789', None, '2025-07-29 20:30:28.587878', None, 'a88013c21d45', 'root')]\n",
            "(Background on this error at: https://sqlalche.me/e/14/e3q8)\n"
          ]
        }
      ]
    }
  ]
}